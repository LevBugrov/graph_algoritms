{
 "cells": [
  {
   "cell_type": "markdown",
   "metadata": {},
   "source": [
    "## Библиотеки и определение функций"
   ]
  },
  {
   "cell_type": "code",
   "execution_count": 1,
   "metadata": {},
   "outputs": [],
   "source": [
    "import matplotlib.pyplot as plt\n",
    "import networkx as nx\n",
    "import random as rm\n",
    "import numpy as np\n",
    "from numpy.random import default_rng\n",
    "import pandas as pd\n",
    "import time\n",
    "\n",
    "rng = default_rng()"
   ]
  },
  {
   "cell_type": "code",
   "execution_count": 2,
   "metadata": {},
   "outputs": [],
   "source": [
    "def str2int_arr(str):\n",
    "    return np.array([float(i) for i in str], dtype=\"byte\")\n",
    "\n",
    "def graph_from_file(file):\n",
    "    w = []\n",
    "    with open(file, \"r\") as f:\n",
    "        for line in f:\n",
    "            arr = line.split()\n",
    "            map(int, arr)\n",
    "            w.append(str2int_arr(arr))\n",
    "    return nx.from_numpy_matrix(np.array(w))\n",
    "\n",
    "def graph_from_dimacs(file):\n",
    "    G = nx.Graph()\n",
    "    with open(file, \"r\") as f:\n",
    "        for line in f:\n",
    "            buff = line.split()\n",
    "            if buff[0]==\"p\":\n",
    "                G.add_nodes_from([i for i in range(1, int(buff[2])+1 )])\n",
    "                break\n",
    "        for line in f:\n",
    "            edge = line.split()\n",
    "            G.add_edge(int(edge[1]), int(edge[2]))\n",
    "    return G"
   ]
  },
  {
   "cell_type": "code",
   "execution_count": 3,
   "metadata": {},
   "outputs": [],
   "source": [
    "def f_activations(x):\n",
    "    return 1 / ( 1 + np.exp(x) )\n",
    "\n",
    "def f_act01(x):\n",
    "    return 1 if x > 0 else 0\n",
    "\n",
    "def energy(X, W, B=1):\n",
    "    sum = 0  # количество рёбер\n",
    "    n = np.sum(X)  # количество вершин\n",
    "    full_eges = -n*(n-1)//2# количество ребер в полном графе на n вершин\n",
    "    \n",
    "    for i in range(len(X)):\n",
    "        for j in range(i, len(X)):\n",
    "            sum += W[i, j]*X[i]*X[j]\n",
    "\n",
    "    return n + (full_eges + sum)*2*B, n, full_eges+sum \n",
    "    \n",
    "def multy_mutation(individual):\n",
    "    n = individual.size\n",
    "    num_mutation=n//3\n",
    "    \n",
    "    for _ in range(num_mutation):\n",
    "        individual[np.random.randint(0, n)] ^= 1\n",
    "    return individual\n",
    "\n",
    "def NN(W, X ,B=0.5, times=1000, unchanged_threshold=20):\n",
    "    N = X.size\n",
    "    h_i = 1\n",
    "    \n",
    "    energies = np.array([], dtype=\"int\")\n",
    "    xs = []\n",
    "    max_en = 0\n",
    "    max_node = 0\n",
    "    missing_edges = 0\n",
    "    unchanged_count = 0\n",
    "    iter = 0\n",
    "    \n",
    "\n",
    "    for iteration in range(times):\n",
    "        \n",
    "        iter += 1\n",
    "        neuron_nums = rm.sample(range(1, N), 5)\n",
    "        for neuron in neuron_nums:\n",
    "            X_next = 0\n",
    "            for j in range(N):\n",
    "                X_next += (1-W[neuron, j])*X[j]\n",
    "            X_next = f_act01(X_next*(-B) + h_i)\n",
    "\n",
    "            X[neuron] = X_next\n",
    "\n",
    "        if iteration > times*0.8:\n",
    "            \n",
    "            ener = energy(X, W, B)\n",
    "            energies = np.append(energies, ener[0])\n",
    "            xs.append(X.copy())\n",
    "            \n",
    "            if max_en == ener[0]:\n",
    "                unchanged_count += 1\n",
    "                if unchanged_count >= unchanged_threshold:\n",
    "                    break\n",
    "            else:\n",
    "                unchanged_count = 0\n",
    "                \n",
    "            if max_en < ener[0]:\n",
    "                max_en = ener[0]\n",
    "                max_node = ener[1]\n",
    "                missing_edges = ener[2]\n",
    "        \n",
    "            \n",
    "            \n",
    "            # print(X)\n",
    "        \n",
    "    return X, energies, xs, max_en, max_node, missing_edges#, iter"
   ]
  },
  {
   "cell_type": "markdown",
   "metadata": {},
   "source": [
    "## Загрузка графа"
   ]
  },
  {
   "cell_type": "code",
   "execution_count": 72,
   "metadata": {},
   "outputs": [
    {
     "name": "stderr",
     "output_type": "stream",
     "text": [
      "C:\\Users\\arkad\\AppData\\Local\\Temp\\ipykernel_988\\1190627997.py:3: FutureWarning: adjacency_matrix will return a scipy.sparse array instead of a matrix in Networkx 3.0.\n",
      "  W = nx.adjacency_matrix(G).todense()\n"
     ]
    }
   ],
   "source": [
    "#G = graph_from_file(\"graph_examples/34_14\")\n",
    "G = graph_from_dimacs(\"data/DIMACS_subset_ascii/C1000.9.clq\")\n",
    "W = nx.adjacency_matrix(G).todense()\n",
    "# nx.draw(G, with_labels=True)"
   ]
  },
  {
   "attachments": {
    "image.png": {
     "image/png": "[encoded data removed]"
    }
   },
   "cell_type": "markdown",
   "metadata": {},
   "source": [
    "![image.png](attachment:image.png)"
   ]
  },
  {
   "cell_type": "markdown",
   "metadata": {},
   "source": [
    "## Запуск алгоритма"
   ]
  },
  {
   "cell_type": "code",
   "execution_count": 19,
   "metadata": {},
   "outputs": [],
   "source": [
    "X = np.ones(G.number_of_nodes(), dtype=\"byte\")\n",
    "X, energies, xs, max_en, max_node, missing_edges = NN(W, X, 0.6, 1000)"
   ]
  },
  {
   "cell_type": "code",
   "execution_count": 20,
   "metadata": {},
   "outputs": [
    {
     "name": "stdout",
     "output_type": "stream",
     "text": [
      "30.8 32 -1\n"
     ]
    }
   ],
   "source": [
    "print(max_en, max_node, missing_edges)"
   ]
  },
  {
   "cell_type": "code",
   "execution_count": 17,
   "metadata": {},
   "outputs": [
    {
     "data": {
      "text/plain": [
       "33.2"
      ]
     },
     "execution_count": 17,
     "metadata": {},
     "output_type": "execute_result"
    }
   ],
   "source": [
    "energies[-1]"
   ]
  },
  {
   "cell_type": "markdown",
   "metadata": {},
   "source": [
    "## NN"
   ]
  },
  {
   "cell_type": "code",
   "execution_count": null,
   "metadata": {},
   "outputs": [],
   "source": [
    "G = graph_from_dimacs(\"data/DIMACS_subset_ascii/C1000.9.clq\")\n",
    "W = nx.adjacency_matrix(G).todense()"
   ]
  },
  {
   "cell_type": "code",
   "execution_count": 4,
   "metadata": {},
   "outputs": [],
   "source": [
    "df = pd.DataFrame(columns=['hi', 'number of iterations', 'number of runs', 'best score',\"average score\" , 'time'])"
   ]
  },
  {
   "cell_type": "code",
   "execution_count": 5,
   "metadata": {},
   "outputs": [],
   "source": [
    "#----------Hyperparameters----------\n",
    "hi = 0.6\n",
    "iterations = 1500\n",
    "number_of_runs = 5\n",
    "#-----------#-----------#----------- "
   ]
  },
  {
   "cell_type": "code",
   "execution_count": 6,
   "metadata": {},
   "outputs": [],
   "source": [
    "def mult_hop(num_parameter, arr, hi, iterations, number_of_runs, df):\n",
    "    for i in arr:\n",
    "        \n",
    "        start_time = time.time()\n",
    "        input = [hi, iterations, number_of_runs]\n",
    "        input[num_parameter] = i \n",
    "        result = 0\n",
    "        avg = 0\n",
    "        \n",
    "        for _ in range(input[2]):\n",
    "            X = np.ones(G.number_of_nodes(), dtype=\"byte\")\n",
    "            X, energies, xs, max_en, max_node, missing_edges = NN(W, X, input[0], input[1])\n",
    "            \n",
    "            out_V = max_node+missing_edges\n",
    "            avg += out_V\n",
    "            result = max(result, out_V)\n",
    "\n",
    "        avg = avg / input[2]\n",
    "        df.loc[len(df)] = [*input, result, avg, (time.time() - start_time)]"
   ]
  },
  {
   "cell_type": "code",
   "execution_count": 76,
   "metadata": {},
   "outputs": [],
   "source": [
    "hi_arr = [0.4, 0.5, 0.6, 0.65, 0.7, 0.8]\n",
    "mult_hop(0, hi_arr, hi, iterations, number_of_runs, df)"
   ]
  },
  {
   "cell_type": "code",
   "execution_count": 77,
   "metadata": {},
   "outputs": [],
   "source": [
    "iterations_arr = [250, 500, 1000, 2000, 5000]\n",
    "mult_hop(1, iterations_arr, hi, iterations, number_of_runs, df)"
   ]
  },
  {
   "cell_type": "code",
   "execution_count": 78,
   "metadata": {},
   "outputs": [],
   "source": [
    "nor_arr = [2, 3, 5, 10, 15, 25]\n",
    "mult_hop(2, nor_arr, hi, iterations, number_of_runs, df)"
   ]
  },
  {
   "cell_type": "code",
   "execution_count": 79,
   "metadata": {},
   "outputs": [
    {
     "data": {
      "text/html": [
       "<div>\n",
       "<style scoped>\n",
       "    .dataframe tbody tr th:only-of-type {\n",
       "        vertical-align: middle;\n",
       "    }\n",
       "\n",
       "    .dataframe tbody tr th {\n",
       "        vertical-align: top;\n",
       "    }\n",
       "\n",
       "    .dataframe thead th {\n",
       "        text-align: right;\n",
       "    }\n",
       "</style>\n",
       "<table border=\"1\" class=\"dataframe\">\n",
       "  <thead>\n",
       "    <tr style=\"text-align: right;\">\n",
       "      <th></th>\n",
       "      <th>hi</th>\n",
       "      <th>number of iterations</th>\n",
       "      <th>number of runs</th>\n",
       "      <th>best score</th>\n",
       "      <th>average score</th>\n",
       "      <th>time</th>\n",
       "    </tr>\n",
       "  </thead>\n",
       "  <tbody>\n",
       "    <tr>\n",
       "      <th>0</th>\n",
       "      <td>0.40</td>\n",
       "      <td>1500.0</td>\n",
       "      <td>5.0</td>\n",
       "      <td>43.0</td>\n",
       "      <td>39.200000</td>\n",
       "      <td>523.530536</td>\n",
       "    </tr>\n",
       "    <tr>\n",
       "      <th>1</th>\n",
       "      <td>0.50</td>\n",
       "      <td>1500.0</td>\n",
       "      <td>5.0</td>\n",
       "      <td>46.0</td>\n",
       "      <td>43.600000</td>\n",
       "      <td>71.887514</td>\n",
       "    </tr>\n",
       "    <tr>\n",
       "      <th>2</th>\n",
       "      <td>0.60</td>\n",
       "      <td>1500.0</td>\n",
       "      <td>5.0</td>\n",
       "      <td>48.0</td>\n",
       "      <td>46.800000</td>\n",
       "      <td>593.705671</td>\n",
       "    </tr>\n",
       "    <tr>\n",
       "      <th>3</th>\n",
       "      <td>0.65</td>\n",
       "      <td>1500.0</td>\n",
       "      <td>5.0</td>\n",
       "      <td>48.0</td>\n",
       "      <td>46.200000</td>\n",
       "      <td>473.772111</td>\n",
       "    </tr>\n",
       "    <tr>\n",
       "      <th>4</th>\n",
       "      <td>0.70</td>\n",
       "      <td>1500.0</td>\n",
       "      <td>5.0</td>\n",
       "      <td>51.0</td>\n",
       "      <td>44.800000</td>\n",
       "      <td>430.629276</td>\n",
       "    </tr>\n",
       "    <tr>\n",
       "      <th>5</th>\n",
       "      <td>0.80</td>\n",
       "      <td>1500.0</td>\n",
       "      <td>5.0</td>\n",
       "      <td>45.0</td>\n",
       "      <td>42.200000</td>\n",
       "      <td>801.971388</td>\n",
       "    </tr>\n",
       "    <tr>\n",
       "      <th>6</th>\n",
       "      <td>0.60</td>\n",
       "      <td>250.0</td>\n",
       "      <td>5.0</td>\n",
       "      <td>0.0</td>\n",
       "      <td>0.000000</td>\n",
       "      <td>98.777474</td>\n",
       "    </tr>\n",
       "    <tr>\n",
       "      <th>7</th>\n",
       "      <td>0.60</td>\n",
       "      <td>500.0</td>\n",
       "      <td>5.0</td>\n",
       "      <td>0.0</td>\n",
       "      <td>0.000000</td>\n",
       "      <td>190.931362</td>\n",
       "    </tr>\n",
       "    <tr>\n",
       "      <th>8</th>\n",
       "      <td>0.60</td>\n",
       "      <td>1000.0</td>\n",
       "      <td>5.0</td>\n",
       "      <td>39.0</td>\n",
       "      <td>32.400000</td>\n",
       "      <td>398.510815</td>\n",
       "    </tr>\n",
       "    <tr>\n",
       "      <th>9</th>\n",
       "      <td>0.60</td>\n",
       "      <td>2000.0</td>\n",
       "      <td>5.0</td>\n",
       "      <td>50.0</td>\n",
       "      <td>48.800000</td>\n",
       "      <td>574.751562</td>\n",
       "    </tr>\n",
       "    <tr>\n",
       "      <th>10</th>\n",
       "      <td>0.60</td>\n",
       "      <td>5000.0</td>\n",
       "      <td>5.0</td>\n",
       "      <td>59.0</td>\n",
       "      <td>56.600000</td>\n",
       "      <td>331.402186</td>\n",
       "    </tr>\n",
       "    <tr>\n",
       "      <th>11</th>\n",
       "      <td>0.60</td>\n",
       "      <td>1500.0</td>\n",
       "      <td>2.0</td>\n",
       "      <td>47.0</td>\n",
       "      <td>43.500000</td>\n",
       "      <td>144.756997</td>\n",
       "    </tr>\n",
       "    <tr>\n",
       "      <th>12</th>\n",
       "      <td>0.60</td>\n",
       "      <td>1500.0</td>\n",
       "      <td>3.0</td>\n",
       "      <td>47.0</td>\n",
       "      <td>44.000000</td>\n",
       "      <td>229.346790</td>\n",
       "    </tr>\n",
       "    <tr>\n",
       "      <th>13</th>\n",
       "      <td>0.60</td>\n",
       "      <td>1500.0</td>\n",
       "      <td>5.0</td>\n",
       "      <td>49.0</td>\n",
       "      <td>45.200000</td>\n",
       "      <td>519.773014</td>\n",
       "    </tr>\n",
       "    <tr>\n",
       "      <th>14</th>\n",
       "      <td>0.60</td>\n",
       "      <td>1500.0</td>\n",
       "      <td>10.0</td>\n",
       "      <td>48.0</td>\n",
       "      <td>45.700000</td>\n",
       "      <td>999.894439</td>\n",
       "    </tr>\n",
       "    <tr>\n",
       "      <th>15</th>\n",
       "      <td>0.60</td>\n",
       "      <td>1500.0</td>\n",
       "      <td>15.0</td>\n",
       "      <td>50.0</td>\n",
       "      <td>45.266667</td>\n",
       "      <td>1433.145803</td>\n",
       "    </tr>\n",
       "    <tr>\n",
       "      <th>16</th>\n",
       "      <td>0.60</td>\n",
       "      <td>1500.0</td>\n",
       "      <td>25.0</td>\n",
       "      <td>50.0</td>\n",
       "      <td>44.200000</td>\n",
       "      <td>2315.108422</td>\n",
       "    </tr>\n",
       "  </tbody>\n",
       "</table>\n",
       "</div>"
      ],
      "text/plain": [
       "      hi  number of iterations  number of runs  best score  average score   \n",
       "0   0.40                1500.0             5.0        43.0      39.200000  \\\n",
       "1   0.50                1500.0             5.0        46.0      43.600000   \n",
       "2   0.60                1500.0             5.0        48.0      46.800000   \n",
       "3   0.65                1500.0             5.0        48.0      46.200000   \n",
       "4   0.70                1500.0             5.0        51.0      44.800000   \n",
       "5   0.80                1500.0             5.0        45.0      42.200000   \n",
       "6   0.60                 250.0             5.0         0.0       0.000000   \n",
       "7   0.60                 500.0             5.0         0.0       0.000000   \n",
       "8   0.60                1000.0             5.0        39.0      32.400000   \n",
       "9   0.60                2000.0             5.0        50.0      48.800000   \n",
       "10  0.60                5000.0             5.0        59.0      56.600000   \n",
       "11  0.60                1500.0             2.0        47.0      43.500000   \n",
       "12  0.60                1500.0             3.0        47.0      44.000000   \n",
       "13  0.60                1500.0             5.0        49.0      45.200000   \n",
       "14  0.60                1500.0            10.0        48.0      45.700000   \n",
       "15  0.60                1500.0            15.0        50.0      45.266667   \n",
       "16  0.60                1500.0            25.0        50.0      44.200000   \n",
       "\n",
       "           time  \n",
       "0    523.530536  \n",
       "1     71.887514  \n",
       "2    593.705671  \n",
       "3    473.772111  \n",
       "4    430.629276  \n",
       "5    801.971388  \n",
       "6     98.777474  \n",
       "7    190.931362  \n",
       "8    398.510815  \n",
       "9    574.751562  \n",
       "10   331.402186  \n",
       "11   144.756997  \n",
       "12   229.346790  \n",
       "13   519.773014  \n",
       "14   999.894439  \n",
       "15  1433.145803  \n",
       "16  2315.108422  "
      ]
     },
     "execution_count": 79,
     "metadata": {},
     "output_type": "execute_result"
    }
   ],
   "source": [
    "df"
   ]
  },
  {
   "cell_type": "markdown",
   "metadata": {},
   "source": [
    "## График энергии от hi (переделать)"
   ]
  },
  {
   "cell_type": "code",
   "execution_count": null,
   "metadata": {},
   "outputs": [],
   "source": []
  },
  {
   "cell_type": "markdown",
   "metadata": {},
   "source": [
    "## Проверка на графах из DIMACS"
   ]
  },
  {
   "cell_type": "code",
   "execution_count": 7,
   "metadata": {},
   "outputs": [],
   "source": [
    "DIMACS = [\"C125.9\",\n",
    "        \"C250.9\",\n",
    "        \"C500.9\",\n",
    "        \"C1000.9\",\n",
    "        \"C2000.9\",\n",
    "        #\"DSJC1000_5\",\n",
    "        #\"DSJC500_5\",\n",
    "        \"C2000.5\",\n",
    "        \"C4000.5\",\n",
    "        \"MANN_a27\",\n",
    "        \"MANN_a45\",\n",
    "        #\"MANN_a81\",\n",
    "        \"brock200_2\",\n",
    "        \"brock200_4\",\n",
    "        \"brock400_2\",\n",
    "        \"brock400_4\",\n",
    "        \"brock800_2\",\n",
    "        \"brock800_4\",\n",
    "        \"gen200_p0.9_44\",\n",
    "        \"gen200_p0.9_55\",\n",
    "        \"gen400_p0.9_55\",\n",
    "        \"gen400_p0.9_65\",\n",
    "        \"gen400_p0.9_75\",\n",
    "        \"hamming10-4\",\n",
    "        \"hamming8-4\",\n",
    "        \"keller4\",\n",
    "        \"keller5\",\n",
    "        #\"keller6\",\n",
    "        \"p_hat300-1\",\n",
    "        \"p_hat300-2\",\n",
    "        \"p_hat300-3\",\n",
    "        \"p_hat700-1\",\n",
    "        \"p_hat700-2\",\n",
    "        \"p_hat700-3\",\n",
    "        \"p_hat1500-1\",\n",
    "        \"p_hat1500-2\",\n",
    "        \"p_hat1500-3\"]"
   ]
  },
  {
   "cell_type": "code",
   "execution_count": 8,
   "metadata": {},
   "outputs": [],
   "source": [
    "df_dim = pd.DataFrame(columns=[\"Benchmark\", \"NN 𝝎(G)\", \"NN Time [s]\"])"
   ]
  },
  {
   "cell_type": "code",
   "execution_count": 11,
   "metadata": {},
   "outputs": [
    {
     "name": "stderr",
     "output_type": "stream",
     "text": [
      "C:\\Users\\arkad\\AppData\\Local\\Temp\\ipykernel_14688\\2912086180.py:3: FutureWarning: adjacency_matrix will return a scipy.sparse array instead of a matrix in Networkx 3.0.\n",
      "  W = nx.adjacency_matrix(G).todense()\n"
     ]
    },
    {
     "name": "stdout",
     "output_type": "stream",
     "text": [
      "done  0\n"
     ]
    },
    {
     "name": "stderr",
     "output_type": "stream",
     "text": [
      "C:\\Users\\arkad\\AppData\\Local\\Temp\\ipykernel_14688\\2912086180.py:3: FutureWarning: adjacency_matrix will return a scipy.sparse array instead of a matrix in Networkx 3.0.\n",
      "  W = nx.adjacency_matrix(G).todense()\n"
     ]
    },
    {
     "name": "stdout",
     "output_type": "stream",
     "text": [
      "done  1\n"
     ]
    },
    {
     "name": "stderr",
     "output_type": "stream",
     "text": [
      "C:\\Users\\arkad\\AppData\\Local\\Temp\\ipykernel_14688\\2912086180.py:3: FutureWarning: adjacency_matrix will return a scipy.sparse array instead of a matrix in Networkx 3.0.\n",
      "  W = nx.adjacency_matrix(G).todense()\n"
     ]
    },
    {
     "name": "stdout",
     "output_type": "stream",
     "text": [
      "done  2\n"
     ]
    },
    {
     "name": "stderr",
     "output_type": "stream",
     "text": [
      "C:\\Users\\arkad\\AppData\\Local\\Temp\\ipykernel_14688\\2912086180.py:3: FutureWarning: adjacency_matrix will return a scipy.sparse array instead of a matrix in Networkx 3.0.\n",
      "  W = nx.adjacency_matrix(G).todense()\n"
     ]
    },
    {
     "name": "stdout",
     "output_type": "stream",
     "text": [
      "done  3\n"
     ]
    },
    {
     "name": "stderr",
     "output_type": "stream",
     "text": [
      "C:\\Users\\arkad\\AppData\\Local\\Temp\\ipykernel_14688\\2912086180.py:3: FutureWarning: adjacency_matrix will return a scipy.sparse array instead of a matrix in Networkx 3.0.\n",
      "  W = nx.adjacency_matrix(G).todense()\n"
     ]
    },
    {
     "name": "stdout",
     "output_type": "stream",
     "text": [
      "done  4\n"
     ]
    },
    {
     "name": "stderr",
     "output_type": "stream",
     "text": [
      "C:\\Users\\arkad\\AppData\\Local\\Temp\\ipykernel_14688\\2912086180.py:3: FutureWarning: adjacency_matrix will return a scipy.sparse array instead of a matrix in Networkx 3.0.\n",
      "  W = nx.adjacency_matrix(G).todense()\n"
     ]
    },
    {
     "name": "stdout",
     "output_type": "stream",
     "text": [
      "done  5\n"
     ]
    },
    {
     "name": "stderr",
     "output_type": "stream",
     "text": [
      "C:\\Users\\arkad\\AppData\\Local\\Temp\\ipykernel_14688\\2912086180.py:3: FutureWarning: adjacency_matrix will return a scipy.sparse array instead of a matrix in Networkx 3.0.\n",
      "  W = nx.adjacency_matrix(G).todense()\n"
     ]
    },
    {
     "name": "stdout",
     "output_type": "stream",
     "text": [
      "done  6\n"
     ]
    },
    {
     "name": "stderr",
     "output_type": "stream",
     "text": [
      "C:\\Users\\arkad\\AppData\\Local\\Temp\\ipykernel_14688\\2912086180.py:3: FutureWarning: adjacency_matrix will return a scipy.sparse array instead of a matrix in Networkx 3.0.\n",
      "  W = nx.adjacency_matrix(G).todense()\n"
     ]
    },
    {
     "name": "stdout",
     "output_type": "stream",
     "text": [
      "done  7\n"
     ]
    },
    {
     "name": "stderr",
     "output_type": "stream",
     "text": [
      "C:\\Users\\arkad\\AppData\\Local\\Temp\\ipykernel_14688\\2912086180.py:3: FutureWarning: adjacency_matrix will return a scipy.sparse array instead of a matrix in Networkx 3.0.\n",
      "  W = nx.adjacency_matrix(G).todense()\n"
     ]
    },
    {
     "name": "stdout",
     "output_type": "stream",
     "text": [
      "done  8\n"
     ]
    },
    {
     "name": "stderr",
     "output_type": "stream",
     "text": [
      "C:\\Users\\arkad\\AppData\\Local\\Temp\\ipykernel_14688\\2912086180.py:3: FutureWarning: adjacency_matrix will return a scipy.sparse array instead of a matrix in Networkx 3.0.\n",
      "  W = nx.adjacency_matrix(G).todense()\n"
     ]
    },
    {
     "name": "stdout",
     "output_type": "stream",
     "text": [
      "done  9\n"
     ]
    },
    {
     "name": "stderr",
     "output_type": "stream",
     "text": [
      "C:\\Users\\arkad\\AppData\\Local\\Temp\\ipykernel_14688\\2912086180.py:3: FutureWarning: adjacency_matrix will return a scipy.sparse array instead of a matrix in Networkx 3.0.\n",
      "  W = nx.adjacency_matrix(G).todense()\n"
     ]
    },
    {
     "name": "stdout",
     "output_type": "stream",
     "text": [
      "done  10\n"
     ]
    },
    {
     "name": "stderr",
     "output_type": "stream",
     "text": [
      "C:\\Users\\arkad\\AppData\\Local\\Temp\\ipykernel_14688\\2912086180.py:3: FutureWarning: adjacency_matrix will return a scipy.sparse array instead of a matrix in Networkx 3.0.\n",
      "  W = nx.adjacency_matrix(G).todense()\n"
     ]
    },
    {
     "name": "stdout",
     "output_type": "stream",
     "text": [
      "done  11\n"
     ]
    },
    {
     "name": "stderr",
     "output_type": "stream",
     "text": [
      "C:\\Users\\arkad\\AppData\\Local\\Temp\\ipykernel_14688\\2912086180.py:3: FutureWarning: adjacency_matrix will return a scipy.sparse array instead of a matrix in Networkx 3.0.\n",
      "  W = nx.adjacency_matrix(G).todense()\n"
     ]
    },
    {
     "name": "stdout",
     "output_type": "stream",
     "text": [
      "done  12\n"
     ]
    },
    {
     "name": "stderr",
     "output_type": "stream",
     "text": [
      "C:\\Users\\arkad\\AppData\\Local\\Temp\\ipykernel_14688\\2912086180.py:3: FutureWarning: adjacency_matrix will return a scipy.sparse array instead of a matrix in Networkx 3.0.\n",
      "  W = nx.adjacency_matrix(G).todense()\n"
     ]
    },
    {
     "name": "stdout",
     "output_type": "stream",
     "text": [
      "done  13\n"
     ]
    },
    {
     "name": "stderr",
     "output_type": "stream",
     "text": [
      "C:\\Users\\arkad\\AppData\\Local\\Temp\\ipykernel_14688\\2912086180.py:3: FutureWarning: adjacency_matrix will return a scipy.sparse array instead of a matrix in Networkx 3.0.\n",
      "  W = nx.adjacency_matrix(G).todense()\n"
     ]
    },
    {
     "name": "stdout",
     "output_type": "stream",
     "text": [
      "done  14\n"
     ]
    },
    {
     "name": "stderr",
     "output_type": "stream",
     "text": [
      "C:\\Users\\arkad\\AppData\\Local\\Temp\\ipykernel_14688\\2912086180.py:3: FutureWarning: adjacency_matrix will return a scipy.sparse array instead of a matrix in Networkx 3.0.\n",
      "  W = nx.adjacency_matrix(G).todense()\n"
     ]
    },
    {
     "name": "stdout",
     "output_type": "stream",
     "text": [
      "done  15\n"
     ]
    },
    {
     "name": "stderr",
     "output_type": "stream",
     "text": [
      "C:\\Users\\arkad\\AppData\\Local\\Temp\\ipykernel_14688\\2912086180.py:3: FutureWarning: adjacency_matrix will return a scipy.sparse array instead of a matrix in Networkx 3.0.\n",
      "  W = nx.adjacency_matrix(G).todense()\n"
     ]
    },
    {
     "name": "stdout",
     "output_type": "stream",
     "text": [
      "done  16\n"
     ]
    },
    {
     "name": "stderr",
     "output_type": "stream",
     "text": [
      "C:\\Users\\arkad\\AppData\\Local\\Temp\\ipykernel_14688\\2912086180.py:3: FutureWarning: adjacency_matrix will return a scipy.sparse array instead of a matrix in Networkx 3.0.\n",
      "  W = nx.adjacency_matrix(G).todense()\n"
     ]
    },
    {
     "name": "stdout",
     "output_type": "stream",
     "text": [
      "done  17\n"
     ]
    },
    {
     "name": "stderr",
     "output_type": "stream",
     "text": [
      "C:\\Users\\arkad\\AppData\\Local\\Temp\\ipykernel_14688\\2912086180.py:3: FutureWarning: adjacency_matrix will return a scipy.sparse array instead of a matrix in Networkx 3.0.\n",
      "  W = nx.adjacency_matrix(G).todense()\n"
     ]
    },
    {
     "name": "stdout",
     "output_type": "stream",
     "text": [
      "done  18\n"
     ]
    },
    {
     "name": "stderr",
     "output_type": "stream",
     "text": [
      "C:\\Users\\arkad\\AppData\\Local\\Temp\\ipykernel_14688\\2912086180.py:3: FutureWarning: adjacency_matrix will return a scipy.sparse array instead of a matrix in Networkx 3.0.\n",
      "  W = nx.adjacency_matrix(G).todense()\n"
     ]
    },
    {
     "name": "stdout",
     "output_type": "stream",
     "text": [
      "done  19\n"
     ]
    },
    {
     "name": "stderr",
     "output_type": "stream",
     "text": [
      "C:\\Users\\arkad\\AppData\\Local\\Temp\\ipykernel_14688\\2912086180.py:3: FutureWarning: adjacency_matrix will return a scipy.sparse array instead of a matrix in Networkx 3.0.\n",
      "  W = nx.adjacency_matrix(G).todense()\n"
     ]
    },
    {
     "name": "stdout",
     "output_type": "stream",
     "text": [
      "done  20\n"
     ]
    },
    {
     "name": "stderr",
     "output_type": "stream",
     "text": [
      "C:\\Users\\arkad\\AppData\\Local\\Temp\\ipykernel_14688\\2912086180.py:3: FutureWarning: adjacency_matrix will return a scipy.sparse array instead of a matrix in Networkx 3.0.\n",
      "  W = nx.adjacency_matrix(G).todense()\n"
     ]
    },
    {
     "name": "stdout",
     "output_type": "stream",
     "text": [
      "done  21\n"
     ]
    },
    {
     "name": "stderr",
     "output_type": "stream",
     "text": [
      "C:\\Users\\arkad\\AppData\\Local\\Temp\\ipykernel_14688\\2912086180.py:3: FutureWarning: adjacency_matrix will return a scipy.sparse array instead of a matrix in Networkx 3.0.\n",
      "  W = nx.adjacency_matrix(G).todense()\n"
     ]
    },
    {
     "name": "stdout",
     "output_type": "stream",
     "text": [
      "done  22\n"
     ]
    },
    {
     "name": "stderr",
     "output_type": "stream",
     "text": [
      "C:\\Users\\arkad\\AppData\\Local\\Temp\\ipykernel_14688\\2912086180.py:3: FutureWarning: adjacency_matrix will return a scipy.sparse array instead of a matrix in Networkx 3.0.\n",
      "  W = nx.adjacency_matrix(G).todense()\n"
     ]
    },
    {
     "name": "stdout",
     "output_type": "stream",
     "text": [
      "done  23\n"
     ]
    },
    {
     "name": "stderr",
     "output_type": "stream",
     "text": [
      "C:\\Users\\arkad\\AppData\\Local\\Temp\\ipykernel_14688\\2912086180.py:3: FutureWarning: adjacency_matrix will return a scipy.sparse array instead of a matrix in Networkx 3.0.\n",
      "  W = nx.adjacency_matrix(G).todense()\n"
     ]
    },
    {
     "name": "stdout",
     "output_type": "stream",
     "text": [
      "done  24\n"
     ]
    },
    {
     "name": "stderr",
     "output_type": "stream",
     "text": [
      "C:\\Users\\arkad\\AppData\\Local\\Temp\\ipykernel_14688\\2912086180.py:3: FutureWarning: adjacency_matrix will return a scipy.sparse array instead of a matrix in Networkx 3.0.\n",
      "  W = nx.adjacency_matrix(G).todense()\n"
     ]
    },
    {
     "name": "stdout",
     "output_type": "stream",
     "text": [
      "done  25\n"
     ]
    },
    {
     "name": "stderr",
     "output_type": "stream",
     "text": [
      "C:\\Users\\arkad\\AppData\\Local\\Temp\\ipykernel_14688\\2912086180.py:3: FutureWarning: adjacency_matrix will return a scipy.sparse array instead of a matrix in Networkx 3.0.\n",
      "  W = nx.adjacency_matrix(G).todense()\n"
     ]
    },
    {
     "name": "stdout",
     "output_type": "stream",
     "text": [
      "done  26\n"
     ]
    },
    {
     "name": "stderr",
     "output_type": "stream",
     "text": [
      "C:\\Users\\arkad\\AppData\\Local\\Temp\\ipykernel_14688\\2912086180.py:3: FutureWarning: adjacency_matrix will return a scipy.sparse array instead of a matrix in Networkx 3.0.\n",
      "  W = nx.adjacency_matrix(G).todense()\n"
     ]
    },
    {
     "name": "stdout",
     "output_type": "stream",
     "text": [
      "done  27\n"
     ]
    },
    {
     "name": "stderr",
     "output_type": "stream",
     "text": [
      "C:\\Users\\arkad\\AppData\\Local\\Temp\\ipykernel_14688\\2912086180.py:3: FutureWarning: adjacency_matrix will return a scipy.sparse array instead of a matrix in Networkx 3.0.\n",
      "  W = nx.adjacency_matrix(G).todense()\n"
     ]
    },
    {
     "name": "stdout",
     "output_type": "stream",
     "text": [
      "done  28\n"
     ]
    },
    {
     "name": "stderr",
     "output_type": "stream",
     "text": [
      "C:\\Users\\arkad\\AppData\\Local\\Temp\\ipykernel_14688\\2912086180.py:3: FutureWarning: adjacency_matrix will return a scipy.sparse array instead of a matrix in Networkx 3.0.\n",
      "  W = nx.adjacency_matrix(G).todense()\n"
     ]
    },
    {
     "name": "stdout",
     "output_type": "stream",
     "text": [
      "done  29\n"
     ]
    },
    {
     "name": "stderr",
     "output_type": "stream",
     "text": [
      "C:\\Users\\arkad\\AppData\\Local\\Temp\\ipykernel_14688\\2912086180.py:3: FutureWarning: adjacency_matrix will return a scipy.sparse array instead of a matrix in Networkx 3.0.\n",
      "  W = nx.adjacency_matrix(G).todense()\n"
     ]
    },
    {
     "name": "stdout",
     "output_type": "stream",
     "text": [
      "done  30\n"
     ]
    },
    {
     "name": "stderr",
     "output_type": "stream",
     "text": [
      "C:\\Users\\arkad\\AppData\\Local\\Temp\\ipykernel_14688\\2912086180.py:3: FutureWarning: adjacency_matrix will return a scipy.sparse array instead of a matrix in Networkx 3.0.\n",
      "  W = nx.adjacency_matrix(G).todense()\n"
     ]
    },
    {
     "name": "stdout",
     "output_type": "stream",
     "text": [
      "done  31\n"
     ]
    },
    {
     "name": "stderr",
     "output_type": "stream",
     "text": [
      "C:\\Users\\arkad\\AppData\\Local\\Temp\\ipykernel_14688\\2912086180.py:3: FutureWarning: adjacency_matrix will return a scipy.sparse array instead of a matrix in Networkx 3.0.\n",
      "  W = nx.adjacency_matrix(G).todense()\n"
     ]
    },
    {
     "name": "stdout",
     "output_type": "stream",
     "text": [
      "done  32\n"
     ]
    }
   ],
   "source": [
    "for graph_number in range(len(DIMACS)):\n",
    "    G = graph_from_dimacs(\"data/DIMACS_subset_ascii/\"+ DIMACS[graph_number] +\".clq\")\n",
    "    W = nx.adjacency_matrix(G).todense()\n",
    "    \n",
    "    start_time = time.time()\n",
    "    X = np.ones(G.number_of_nodes(), dtype=\"byte\")\n",
    "    X, energies, xs, max_en, max_node, missing_edges = NN(W, X, 0.6, 10000, unchanged_threshold=50)\n",
    "    \n",
    "    df_dim.loc[len(df_dim)] = [DIMACS[graph_number], max_node+missing_edges, (time.time() - start_time)]\n",
    "    \n",
    "    print(\"done \", graph_number)"
   ]
  },
  {
   "cell_type": "code",
   "execution_count": 15,
   "metadata": {},
   "outputs": [
    {
     "data": {
      "text/html": [
       "<div>\n",
       "<style scoped>\n",
       "    .dataframe tbody tr th:only-of-type {\n",
       "        vertical-align: middle;\n",
       "    }\n",
       "\n",
       "    .dataframe tbody tr th {\n",
       "        vertical-align: top;\n",
       "    }\n",
       "\n",
       "    .dataframe thead th {\n",
       "        text-align: right;\n",
       "    }\n",
       "</style>\n",
       "<table border=\"1\" class=\"dataframe\">\n",
       "  <thead>\n",
       "    <tr style=\"text-align: right;\">\n",
       "      <th></th>\n",
       "      <th>Benchmark</th>\n",
       "      <th>NN 𝝎(G)</th>\n",
       "      <th>NN Time [s]</th>\n",
       "    </tr>\n",
       "  </thead>\n",
       "  <tbody>\n",
       "    <tr>\n",
       "      <th>33</th>\n",
       "      <td>C125.9</td>\n",
       "      <td>34</td>\n",
       "      <td>21.027260</td>\n",
       "    </tr>\n",
       "    <tr>\n",
       "      <th>34</th>\n",
       "      <td>C250.9</td>\n",
       "      <td>40</td>\n",
       "      <td>28.872139</td>\n",
       "    </tr>\n",
       "    <tr>\n",
       "      <th>35</th>\n",
       "      <td>C500.9</td>\n",
       "      <td>50</td>\n",
       "      <td>108.862094</td>\n",
       "    </tr>\n",
       "    <tr>\n",
       "      <th>36</th>\n",
       "      <td>C1000.9</td>\n",
       "      <td>58</td>\n",
       "      <td>179.961964</td>\n",
       "    </tr>\n",
       "    <tr>\n",
       "      <th>37</th>\n",
       "      <td>C2000.9</td>\n",
       "      <td>64</td>\n",
       "      <td>146.878269</td>\n",
       "    </tr>\n",
       "    <tr>\n",
       "      <th>38</th>\n",
       "      <td>C2000.5</td>\n",
       "      <td>13</td>\n",
       "      <td>1200.860273</td>\n",
       "    </tr>\n",
       "    <tr>\n",
       "      <th>39</th>\n",
       "      <td>C4000.5</td>\n",
       "      <td>9</td>\n",
       "      <td>880.325724</td>\n",
       "    </tr>\n",
       "    <tr>\n",
       "      <th>40</th>\n",
       "      <td>MANN_a27</td>\n",
       "      <td>120</td>\n",
       "      <td>131.972855</td>\n",
       "    </tr>\n",
       "    <tr>\n",
       "      <th>41</th>\n",
       "      <td>MANN_a45</td>\n",
       "      <td>332</td>\n",
       "      <td>944.187472</td>\n",
       "    </tr>\n",
       "    <tr>\n",
       "      <th>42</th>\n",
       "      <td>brock200_2</td>\n",
       "      <td>8</td>\n",
       "      <td>14.132812</td>\n",
       "    </tr>\n",
       "    <tr>\n",
       "      <th>43</th>\n",
       "      <td>brock200_4</td>\n",
       "      <td>14</td>\n",
       "      <td>41.209861</td>\n",
       "    </tr>\n",
       "    <tr>\n",
       "      <th>44</th>\n",
       "      <td>brock400_2</td>\n",
       "      <td>21</td>\n",
       "      <td>20.198761</td>\n",
       "    </tr>\n",
       "    <tr>\n",
       "      <th>45</th>\n",
       "      <td>brock400_4</td>\n",
       "      <td>23</td>\n",
       "      <td>32.515356</td>\n",
       "    </tr>\n",
       "    <tr>\n",
       "      <th>46</th>\n",
       "      <td>brock800_2</td>\n",
       "      <td>17</td>\n",
       "      <td>50.334602</td>\n",
       "    </tr>\n",
       "    <tr>\n",
       "      <th>47</th>\n",
       "      <td>brock800_4</td>\n",
       "      <td>17</td>\n",
       "      <td>35.515526</td>\n",
       "    </tr>\n",
       "    <tr>\n",
       "      <th>48</th>\n",
       "      <td>gen200_p0.9_44</td>\n",
       "      <td>36</td>\n",
       "      <td>41.000935</td>\n",
       "    </tr>\n",
       "    <tr>\n",
       "      <th>49</th>\n",
       "      <td>gen200_p0.9_55</td>\n",
       "      <td>50</td>\n",
       "      <td>57.915668</td>\n",
       "    </tr>\n",
       "    <tr>\n",
       "      <th>50</th>\n",
       "      <td>gen400_p0.9_55</td>\n",
       "      <td>51</td>\n",
       "      <td>165.214843</td>\n",
       "    </tr>\n",
       "    <tr>\n",
       "      <th>51</th>\n",
       "      <td>gen400_p0.9_65</td>\n",
       "      <td>46</td>\n",
       "      <td>145.395482</td>\n",
       "    </tr>\n",
       "    <tr>\n",
       "      <th>52</th>\n",
       "      <td>gen400_p0.9_75</td>\n",
       "      <td>74</td>\n",
       "      <td>17.732616</td>\n",
       "    </tr>\n",
       "    <tr>\n",
       "      <th>53</th>\n",
       "      <td>hamming10-4</td>\n",
       "      <td>35</td>\n",
       "      <td>58.802366</td>\n",
       "    </tr>\n",
       "    <tr>\n",
       "      <th>54</th>\n",
       "      <td>hamming8-4</td>\n",
       "      <td>16</td>\n",
       "      <td>8.784800</td>\n",
       "    </tr>\n",
       "    <tr>\n",
       "      <th>55</th>\n",
       "      <td>keller4</td>\n",
       "      <td>11</td>\n",
       "      <td>29.479104</td>\n",
       "    </tr>\n",
       "    <tr>\n",
       "      <th>56</th>\n",
       "      <td>keller5</td>\n",
       "      <td>23</td>\n",
       "      <td>101.828098</td>\n",
       "    </tr>\n",
       "    <tr>\n",
       "      <th>57</th>\n",
       "      <td>p_hat300-1</td>\n",
       "      <td>6</td>\n",
       "      <td>83.656157</td>\n",
       "    </tr>\n",
       "    <tr>\n",
       "      <th>58</th>\n",
       "      <td>p_hat300-2</td>\n",
       "      <td>16</td>\n",
       "      <td>86.783579</td>\n",
       "    </tr>\n",
       "    <tr>\n",
       "      <th>59</th>\n",
       "      <td>p_hat300-3</td>\n",
       "      <td>28</td>\n",
       "      <td>83.463906</td>\n",
       "    </tr>\n",
       "    <tr>\n",
       "      <th>60</th>\n",
       "      <td>p_hat700-1</td>\n",
       "      <td>7</td>\n",
       "      <td>30.085676</td>\n",
       "    </tr>\n",
       "    <tr>\n",
       "      <th>61</th>\n",
       "      <td>p_hat700-2</td>\n",
       "      <td>34</td>\n",
       "      <td>534.031431</td>\n",
       "    </tr>\n",
       "    <tr>\n",
       "      <th>62</th>\n",
       "      <td>p_hat700-3</td>\n",
       "      <td>55</td>\n",
       "      <td>449.327515</td>\n",
       "    </tr>\n",
       "    <tr>\n",
       "      <th>63</th>\n",
       "      <td>p_hat1500-1</td>\n",
       "      <td>9</td>\n",
       "      <td>100.774035</td>\n",
       "    </tr>\n",
       "    <tr>\n",
       "      <th>64</th>\n",
       "      <td>p_hat1500-2</td>\n",
       "      <td>65</td>\n",
       "      <td>99.308843</td>\n",
       "    </tr>\n",
       "    <tr>\n",
       "      <th>65</th>\n",
       "      <td>p_hat1500-3</td>\n",
       "      <td>86</td>\n",
       "      <td>1002.718284</td>\n",
       "    </tr>\n",
       "  </tbody>\n",
       "</table>\n",
       "</div>"
      ],
      "text/plain": [
       "         Benchmark  NN 𝝎(G)  NN Time [s]\n",
       "33          C125.9       34    21.027260\n",
       "34          C250.9       40    28.872139\n",
       "35          C500.9       50   108.862094\n",
       "36         C1000.9       58   179.961964\n",
       "37         C2000.9       64   146.878269\n",
       "38         C2000.5       13  1200.860273\n",
       "39         C4000.5        9   880.325724\n",
       "40        MANN_a27      120   131.972855\n",
       "41        MANN_a45      332   944.187472\n",
       "42      brock200_2        8    14.132812\n",
       "43      brock200_4       14    41.209861\n",
       "44      brock400_2       21    20.198761\n",
       "45      brock400_4       23    32.515356\n",
       "46      brock800_2       17    50.334602\n",
       "47      brock800_4       17    35.515526\n",
       "48  gen200_p0.9_44       36    41.000935\n",
       "49  gen200_p0.9_55       50    57.915668\n",
       "50  gen400_p0.9_55       51   165.214843\n",
       "51  gen400_p0.9_65       46   145.395482\n",
       "52  gen400_p0.9_75       74    17.732616\n",
       "53     hamming10-4       35    58.802366\n",
       "54      hamming8-4       16     8.784800\n",
       "55         keller4       11    29.479104\n",
       "56         keller5       23   101.828098\n",
       "57      p_hat300-1        6    83.656157\n",
       "58      p_hat300-2       16    86.783579\n",
       "59      p_hat300-3       28    83.463906\n",
       "60      p_hat700-1        7    30.085676\n",
       "61      p_hat700-2       34   534.031431\n",
       "62      p_hat700-3       55   449.327515\n",
       "63     p_hat1500-1        9   100.774035\n",
       "64     p_hat1500-2       65    99.308843\n",
       "65     p_hat1500-3       86  1002.718284"
      ]
     },
     "execution_count": 15,
     "metadata": {},
     "output_type": "execute_result"
    }
   ],
   "source": [
    "df_dim[33:]"
   ]
  },
  {
   "cell_type": "markdown",
   "metadata": {},
   "source": [
    "## GA -> NN"
   ]
  },
  {
   "cell_type": "code",
   "execution_count": 16,
   "metadata": {},
   "outputs": [],
   "source": [
    "df = pd.DataFrame(columns=['hi', 'number of iterations', 'number of runs', 'best score',\"average score\" , 'time'])"
   ]
  },
  {
   "cell_type": "code",
   "execution_count": 23,
   "metadata": {},
   "outputs": [
    {
     "name": "stdout",
     "output_type": "stream",
     "text": [
      "40\n"
     ]
    }
   ],
   "source": [
    "import pickle\n",
    "with open('data/graphFromGaToHop/C500.9.pkl', 'rb') as input:\n",
    "    pop_ga = pickle.load(input)\n",
    "print(len(pop_ga))"
   ]
  },
  {
   "cell_type": "code",
   "execution_count": null,
   "metadata": {},
   "outputs": [],
   "source": [
    "start_time = time.time()\n",
    "out_energ = []\n",
    "result = 0\n",
    "avg = 0\n",
    "\n",
    "for x in pop_ga:\n",
    "    X = x\n",
    "    X, energies, xs, max_en, max_node, missing_edges = NN(W, X, hi, iterations)\n",
    "    out_V = max_node+missing_edges\n",
    "    avg += out_V\n",
    "    result = max(result, out_V)\n",
    "\n",
    "avg = avg / len(pop_ga)\n",
    "df.loc[len(df)] = [hi, iterations, len(pop_ga), result, avg, (time.time() - start_time)]"
   ]
  },
  {
   "cell_type": "code",
   "execution_count": null,
   "metadata": {},
   "outputs": [
    {
     "data": {
      "text/html": [
       "<div>\n",
       "<style scoped>\n",
       "    .dataframe tbody tr th:only-of-type {\n",
       "        vertical-align: middle;\n",
       "    }\n",
       "\n",
       "    .dataframe tbody tr th {\n",
       "        vertical-align: top;\n",
       "    }\n",
       "\n",
       "    .dataframe thead th {\n",
       "        text-align: right;\n",
       "    }\n",
       "</style>\n",
       "<table border=\"1\" class=\"dataframe\">\n",
       "  <thead>\n",
       "    <tr style=\"text-align: right;\">\n",
       "      <th></th>\n",
       "      <th>hi</th>\n",
       "      <th>number of iterations</th>\n",
       "      <th>number of runs</th>\n",
       "      <th>best score</th>\n",
       "      <th>average score</th>\n",
       "      <th>time</th>\n",
       "    </tr>\n",
       "  </thead>\n",
       "  <tbody>\n",
       "    <tr>\n",
       "      <th>0</th>\n",
       "      <td>0.6</td>\n",
       "      <td>1500.0</td>\n",
       "      <td>40.0</td>\n",
       "      <td>37.0</td>\n",
       "      <td>34.825</td>\n",
       "      <td>303.146555</td>\n",
       "    </tr>\n",
       "  </tbody>\n",
       "</table>\n",
       "</div>"
      ],
      "text/plain": [
       "    hi  number of iterations  number of runs  best score  average score   \n",
       "0  0.6                1500.0            40.0        37.0         34.825  \\\n",
       "\n",
       "         time  \n",
       "0  303.146555  "
      ]
     },
     "execution_count": 20,
     "metadata": {},
     "output_type": "execute_result"
    }
   ],
   "source": [
    "df"
   ]
  },
  {
   "cell_type": "markdown",
   "metadata": {},
   "source": [
    "### GA -> NN DIMACS"
   ]
  },
  {
   "cell_type": "code",
   "execution_count": 25,
   "metadata": {},
   "outputs": [],
   "source": [
    "from os import listdir\n",
    "from os.path import isfile, join\n",
    "ga_dimacs = [f for f in listdir(\"data/graphFromGaToHop\") if isfile(join(\"data/graphFromGaToHop\", f))]"
   ]
  },
  {
   "cell_type": "code",
   "execution_count": 45,
   "metadata": {},
   "outputs": [],
   "source": [
    "df_dim = pd.DataFrame(columns=[\"Benchmark\", \"NN 𝝎(G)\", \"NN Time [s]\"])"
   ]
  },
  {
   "cell_type": "code",
   "execution_count": 46,
   "metadata": {},
   "outputs": [
    {
     "name": "stderr",
     "output_type": "stream",
     "text": [
      "C:\\Users\\arkad\\AppData\\Local\\Temp\\ipykernel_14688\\2448206681.py:3: FutureWarning: adjacency_matrix will return a scipy.sparse array instead of a matrix in Networkx 3.0.\n",
      "  W = nx.adjacency_matrix(G).todense()\n"
     ]
    },
    {
     "name": "stdout",
     "output_type": "stream",
     "text": [
      "done  0\n"
     ]
    },
    {
     "name": "stderr",
     "output_type": "stream",
     "text": [
      "C:\\Users\\arkad\\AppData\\Local\\Temp\\ipykernel_14688\\2448206681.py:3: FutureWarning: adjacency_matrix will return a scipy.sparse array instead of a matrix in Networkx 3.0.\n",
      "  W = nx.adjacency_matrix(G).todense()\n"
     ]
    },
    {
     "name": "stdout",
     "output_type": "stream",
     "text": [
      "done  1\n"
     ]
    },
    {
     "name": "stderr",
     "output_type": "stream",
     "text": [
      "C:\\Users\\arkad\\AppData\\Local\\Temp\\ipykernel_14688\\2448206681.py:3: FutureWarning: adjacency_matrix will return a scipy.sparse array instead of a matrix in Networkx 3.0.\n",
      "  W = nx.adjacency_matrix(G).todense()\n"
     ]
    },
    {
     "name": "stdout",
     "output_type": "stream",
     "text": [
      "done  2\n"
     ]
    },
    {
     "name": "stderr",
     "output_type": "stream",
     "text": [
      "C:\\Users\\arkad\\AppData\\Local\\Temp\\ipykernel_14688\\2448206681.py:3: FutureWarning: adjacency_matrix will return a scipy.sparse array instead of a matrix in Networkx 3.0.\n",
      "  W = nx.adjacency_matrix(G).todense()\n"
     ]
    },
    {
     "name": "stdout",
     "output_type": "stream",
     "text": [
      "done  3\n"
     ]
    },
    {
     "name": "stderr",
     "output_type": "stream",
     "text": [
      "C:\\Users\\arkad\\AppData\\Local\\Temp\\ipykernel_14688\\2448206681.py:3: FutureWarning: adjacency_matrix will return a scipy.sparse array instead of a matrix in Networkx 3.0.\n",
      "  W = nx.adjacency_matrix(G).todense()\n"
     ]
    },
    {
     "name": "stdout",
     "output_type": "stream",
     "text": [
      "done  4\n"
     ]
    },
    {
     "name": "stderr",
     "output_type": "stream",
     "text": [
      "C:\\Users\\arkad\\AppData\\Local\\Temp\\ipykernel_14688\\2448206681.py:3: FutureWarning: adjacency_matrix will return a scipy.sparse array instead of a matrix in Networkx 3.0.\n",
      "  W = nx.adjacency_matrix(G).todense()\n"
     ]
    },
    {
     "name": "stdout",
     "output_type": "stream",
     "text": [
      "done  5\n"
     ]
    },
    {
     "name": "stderr",
     "output_type": "stream",
     "text": [
      "C:\\Users\\arkad\\AppData\\Local\\Temp\\ipykernel_14688\\2448206681.py:3: FutureWarning: adjacency_matrix will return a scipy.sparse array instead of a matrix in Networkx 3.0.\n",
      "  W = nx.adjacency_matrix(G).todense()\n"
     ]
    },
    {
     "name": "stdout",
     "output_type": "stream",
     "text": [
      "done  6\n"
     ]
    },
    {
     "name": "stderr",
     "output_type": "stream",
     "text": [
      "C:\\Users\\arkad\\AppData\\Local\\Temp\\ipykernel_14688\\2448206681.py:3: FutureWarning: adjacency_matrix will return a scipy.sparse array instead of a matrix in Networkx 3.0.\n",
      "  W = nx.adjacency_matrix(G).todense()\n"
     ]
    },
    {
     "name": "stdout",
     "output_type": "stream",
     "text": [
      "done  7\n"
     ]
    },
    {
     "name": "stderr",
     "output_type": "stream",
     "text": [
      "C:\\Users\\arkad\\AppData\\Local\\Temp\\ipykernel_14688\\2448206681.py:3: FutureWarning: adjacency_matrix will return a scipy.sparse array instead of a matrix in Networkx 3.0.\n",
      "  W = nx.adjacency_matrix(G).todense()\n"
     ]
    },
    {
     "name": "stdout",
     "output_type": "stream",
     "text": [
      "done  8\n"
     ]
    },
    {
     "name": "stderr",
     "output_type": "stream",
     "text": [
      "C:\\Users\\arkad\\AppData\\Local\\Temp\\ipykernel_14688\\2448206681.py:3: FutureWarning: adjacency_matrix will return a scipy.sparse array instead of a matrix in Networkx 3.0.\n",
      "  W = nx.adjacency_matrix(G).todense()\n"
     ]
    },
    {
     "name": "stdout",
     "output_type": "stream",
     "text": [
      "done  9\n"
     ]
    },
    {
     "name": "stderr",
     "output_type": "stream",
     "text": [
      "C:\\Users\\arkad\\AppData\\Local\\Temp\\ipykernel_14688\\2448206681.py:3: FutureWarning: adjacency_matrix will return a scipy.sparse array instead of a matrix in Networkx 3.0.\n",
      "  W = nx.adjacency_matrix(G).todense()\n"
     ]
    },
    {
     "name": "stdout",
     "output_type": "stream",
     "text": [
      "done  10\n"
     ]
    },
    {
     "name": "stderr",
     "output_type": "stream",
     "text": [
      "C:\\Users\\arkad\\AppData\\Local\\Temp\\ipykernel_14688\\2448206681.py:3: FutureWarning: adjacency_matrix will return a scipy.sparse array instead of a matrix in Networkx 3.0.\n",
      "  W = nx.adjacency_matrix(G).todense()\n"
     ]
    },
    {
     "name": "stdout",
     "output_type": "stream",
     "text": [
      "done  11\n"
     ]
    },
    {
     "name": "stderr",
     "output_type": "stream",
     "text": [
      "C:\\Users\\arkad\\AppData\\Local\\Temp\\ipykernel_14688\\2448206681.py:3: FutureWarning: adjacency_matrix will return a scipy.sparse array instead of a matrix in Networkx 3.0.\n",
      "  W = nx.adjacency_matrix(G).todense()\n"
     ]
    },
    {
     "name": "stdout",
     "output_type": "stream",
     "text": [
      "done  12\n"
     ]
    },
    {
     "name": "stderr",
     "output_type": "stream",
     "text": [
      "C:\\Users\\arkad\\AppData\\Local\\Temp\\ipykernel_14688\\2448206681.py:3: FutureWarning: adjacency_matrix will return a scipy.sparse array instead of a matrix in Networkx 3.0.\n",
      "  W = nx.adjacency_matrix(G).todense()\n"
     ]
    },
    {
     "name": "stdout",
     "output_type": "stream",
     "text": [
      "done  13\n"
     ]
    },
    {
     "name": "stderr",
     "output_type": "stream",
     "text": [
      "C:\\Users\\arkad\\AppData\\Local\\Temp\\ipykernel_14688\\2448206681.py:3: FutureWarning: adjacency_matrix will return a scipy.sparse array instead of a matrix in Networkx 3.0.\n",
      "  W = nx.adjacency_matrix(G).todense()\n"
     ]
    },
    {
     "name": "stdout",
     "output_type": "stream",
     "text": [
      "done  14\n"
     ]
    },
    {
     "name": "stderr",
     "output_type": "stream",
     "text": [
      "C:\\Users\\arkad\\AppData\\Local\\Temp\\ipykernel_14688\\2448206681.py:3: FutureWarning: adjacency_matrix will return a scipy.sparse array instead of a matrix in Networkx 3.0.\n",
      "  W = nx.adjacency_matrix(G).todense()\n"
     ]
    },
    {
     "name": "stdout",
     "output_type": "stream",
     "text": [
      "done  15\n"
     ]
    },
    {
     "name": "stderr",
     "output_type": "stream",
     "text": [
      "C:\\Users\\arkad\\AppData\\Local\\Temp\\ipykernel_14688\\2448206681.py:3: FutureWarning: adjacency_matrix will return a scipy.sparse array instead of a matrix in Networkx 3.0.\n",
      "  W = nx.adjacency_matrix(G).todense()\n"
     ]
    },
    {
     "name": "stdout",
     "output_type": "stream",
     "text": [
      "done  16\n"
     ]
    },
    {
     "name": "stderr",
     "output_type": "stream",
     "text": [
      "C:\\Users\\arkad\\AppData\\Local\\Temp\\ipykernel_14688\\2448206681.py:3: FutureWarning: adjacency_matrix will return a scipy.sparse array instead of a matrix in Networkx 3.0.\n",
      "  W = nx.adjacency_matrix(G).todense()\n"
     ]
    },
    {
     "name": "stdout",
     "output_type": "stream",
     "text": [
      "done  17\n"
     ]
    },
    {
     "name": "stderr",
     "output_type": "stream",
     "text": [
      "C:\\Users\\arkad\\AppData\\Local\\Temp\\ipykernel_14688\\2448206681.py:3: FutureWarning: adjacency_matrix will return a scipy.sparse array instead of a matrix in Networkx 3.0.\n",
      "  W = nx.adjacency_matrix(G).todense()\n"
     ]
    },
    {
     "name": "stdout",
     "output_type": "stream",
     "text": [
      "done  18\n"
     ]
    },
    {
     "name": "stderr",
     "output_type": "stream",
     "text": [
      "C:\\Users\\arkad\\AppData\\Local\\Temp\\ipykernel_14688\\2448206681.py:3: FutureWarning: adjacency_matrix will return a scipy.sparse array instead of a matrix in Networkx 3.0.\n",
      "  W = nx.adjacency_matrix(G).todense()\n"
     ]
    },
    {
     "name": "stdout",
     "output_type": "stream",
     "text": [
      "done  19\n"
     ]
    },
    {
     "name": "stderr",
     "output_type": "stream",
     "text": [
      "C:\\Users\\arkad\\AppData\\Local\\Temp\\ipykernel_14688\\2448206681.py:3: FutureWarning: adjacency_matrix will return a scipy.sparse array instead of a matrix in Networkx 3.0.\n",
      "  W = nx.adjacency_matrix(G).todense()\n"
     ]
    },
    {
     "name": "stdout",
     "output_type": "stream",
     "text": [
      "done  20\n"
     ]
    },
    {
     "name": "stderr",
     "output_type": "stream",
     "text": [
      "C:\\Users\\arkad\\AppData\\Local\\Temp\\ipykernel_14688\\2448206681.py:3: FutureWarning: adjacency_matrix will return a scipy.sparse array instead of a matrix in Networkx 3.0.\n",
      "  W = nx.adjacency_matrix(G).todense()\n"
     ]
    },
    {
     "name": "stdout",
     "output_type": "stream",
     "text": [
      "done  21\n"
     ]
    },
    {
     "name": "stderr",
     "output_type": "stream",
     "text": [
      "C:\\Users\\arkad\\AppData\\Local\\Temp\\ipykernel_14688\\2448206681.py:3: FutureWarning: adjacency_matrix will return a scipy.sparse array instead of a matrix in Networkx 3.0.\n",
      "  W = nx.adjacency_matrix(G).todense()\n"
     ]
    },
    {
     "name": "stdout",
     "output_type": "stream",
     "text": [
      "done  22\n"
     ]
    },
    {
     "name": "stderr",
     "output_type": "stream",
     "text": [
      "C:\\Users\\arkad\\AppData\\Local\\Temp\\ipykernel_14688\\2448206681.py:3: FutureWarning: adjacency_matrix will return a scipy.sparse array instead of a matrix in Networkx 3.0.\n",
      "  W = nx.adjacency_matrix(G).todense()\n"
     ]
    },
    {
     "name": "stdout",
     "output_type": "stream",
     "text": [
      "done  23\n"
     ]
    },
    {
     "name": "stderr",
     "output_type": "stream",
     "text": [
      "C:\\Users\\arkad\\AppData\\Local\\Temp\\ipykernel_14688\\2448206681.py:3: FutureWarning: adjacency_matrix will return a scipy.sparse array instead of a matrix in Networkx 3.0.\n",
      "  W = nx.adjacency_matrix(G).todense()\n"
     ]
    },
    {
     "name": "stdout",
     "output_type": "stream",
     "text": [
      "done  24\n"
     ]
    },
    {
     "name": "stderr",
     "output_type": "stream",
     "text": [
      "C:\\Users\\arkad\\AppData\\Local\\Temp\\ipykernel_14688\\2448206681.py:3: FutureWarning: adjacency_matrix will return a scipy.sparse array instead of a matrix in Networkx 3.0.\n",
      "  W = nx.adjacency_matrix(G).todense()\n"
     ]
    },
    {
     "name": "stdout",
     "output_type": "stream",
     "text": [
      "done  25\n"
     ]
    },
    {
     "name": "stderr",
     "output_type": "stream",
     "text": [
      "C:\\Users\\arkad\\AppData\\Local\\Temp\\ipykernel_14688\\2448206681.py:3: FutureWarning: adjacency_matrix will return a scipy.sparse array instead of a matrix in Networkx 3.0.\n",
      "  W = nx.adjacency_matrix(G).todense()\n"
     ]
    },
    {
     "name": "stdout",
     "output_type": "stream",
     "text": [
      "done  26\n"
     ]
    },
    {
     "name": "stderr",
     "output_type": "stream",
     "text": [
      "C:\\Users\\arkad\\AppData\\Local\\Temp\\ipykernel_14688\\2448206681.py:3: FutureWarning: adjacency_matrix will return a scipy.sparse array instead of a matrix in Networkx 3.0.\n",
      "  W = nx.adjacency_matrix(G).todense()\n"
     ]
    },
    {
     "name": "stdout",
     "output_type": "stream",
     "text": [
      "done  27\n"
     ]
    },
    {
     "name": "stderr",
     "output_type": "stream",
     "text": [
      "C:\\Users\\arkad\\AppData\\Local\\Temp\\ipykernel_14688\\2448206681.py:3: FutureWarning: adjacency_matrix will return a scipy.sparse array instead of a matrix in Networkx 3.0.\n",
      "  W = nx.adjacency_matrix(G).todense()\n"
     ]
    },
    {
     "name": "stdout",
     "output_type": "stream",
     "text": [
      "done  28\n"
     ]
    },
    {
     "name": "stderr",
     "output_type": "stream",
     "text": [
      "C:\\Users\\arkad\\AppData\\Local\\Temp\\ipykernel_14688\\2448206681.py:3: FutureWarning: adjacency_matrix will return a scipy.sparse array instead of a matrix in Networkx 3.0.\n",
      "  W = nx.adjacency_matrix(G).todense()\n"
     ]
    },
    {
     "name": "stdout",
     "output_type": "stream",
     "text": [
      "done  29\n"
     ]
    },
    {
     "name": "stderr",
     "output_type": "stream",
     "text": [
      "C:\\Users\\arkad\\AppData\\Local\\Temp\\ipykernel_14688\\2448206681.py:3: FutureWarning: adjacency_matrix will return a scipy.sparse array instead of a matrix in Networkx 3.0.\n",
      "  W = nx.adjacency_matrix(G).todense()\n"
     ]
    },
    {
     "name": "stdout",
     "output_type": "stream",
     "text": [
      "done  30\n"
     ]
    },
    {
     "name": "stderr",
     "output_type": "stream",
     "text": [
      "C:\\Users\\arkad\\AppData\\Local\\Temp\\ipykernel_14688\\2448206681.py:3: FutureWarning: adjacency_matrix will return a scipy.sparse array instead of a matrix in Networkx 3.0.\n",
      "  W = nx.adjacency_matrix(G).todense()\n"
     ]
    },
    {
     "name": "stdout",
     "output_type": "stream",
     "text": [
      "done  31\n"
     ]
    },
    {
     "name": "stderr",
     "output_type": "stream",
     "text": [
      "C:\\Users\\arkad\\AppData\\Local\\Temp\\ipykernel_14688\\2448206681.py:3: FutureWarning: adjacency_matrix will return a scipy.sparse array instead of a matrix in Networkx 3.0.\n",
      "  W = nx.adjacency_matrix(G).todense()\n"
     ]
    },
    {
     "name": "stdout",
     "output_type": "stream",
     "text": [
      "done  32\n"
     ]
    }
   ],
   "source": [
    "for graph_number in range(len(DIMACS)):\n",
    "    G = graph_from_dimacs(\"data/DIMACS_subset_ascii/\"+ DIMACS[graph_number] +\".clq\")\n",
    "    W = nx.adjacency_matrix(G).todense()\n",
    "    with open('data/graphFromGaToHop/' + DIMACS[graph_number] + '.pkl', 'rb') as input:\n",
    "        pop_ga = pickle.load(input)\n",
    "    \n",
    "    \n",
    "    start_time = time.time()\n",
    "    # X = np.ones(G.number_of_nodes(), dtype=\"byte\")\n",
    "    X = pop_ga[0]\n",
    "    X, energies, xs, max_en, max_node, missing_edges = NN(W, X, 0.6, 4000, unchanged_threshold=40)\n",
    "    \n",
    "    df_dim.loc[len(df_dim)] = [DIMACS[graph_number], max_node+missing_edges, (time.time() - start_time)]\n",
    "    \n",
    "    print(\"done \", graph_number)"
   ]
  },
  {
   "cell_type": "code",
   "execution_count": 47,
   "metadata": {},
   "outputs": [
    {
     "data": {
      "text/html": [
       "<div>\n",
       "<style scoped>\n",
       "    .dataframe tbody tr th:only-of-type {\n",
       "        vertical-align: middle;\n",
       "    }\n",
       "\n",
       "    .dataframe tbody tr th {\n",
       "        vertical-align: top;\n",
       "    }\n",
       "\n",
       "    .dataframe thead th {\n",
       "        text-align: right;\n",
       "    }\n",
       "</style>\n",
       "<table border=\"1\" class=\"dataframe\">\n",
       "  <thead>\n",
       "    <tr style=\"text-align: right;\">\n",
       "      <th></th>\n",
       "      <th>Benchmark</th>\n",
       "      <th>NN 𝝎(G)</th>\n",
       "      <th>NN Time [s]</th>\n",
       "    </tr>\n",
       "  </thead>\n",
       "  <tbody>\n",
       "    <tr>\n",
       "      <th>0</th>\n",
       "      <td>C125.9</td>\n",
       "      <td>34</td>\n",
       "      <td>7.605123</td>\n",
       "    </tr>\n",
       "    <tr>\n",
       "      <th>1</th>\n",
       "      <td>C250.9</td>\n",
       "      <td>43</td>\n",
       "      <td>35.509870</td>\n",
       "    </tr>\n",
       "    <tr>\n",
       "      <th>2</th>\n",
       "      <td>C500.9</td>\n",
       "      <td>49</td>\n",
       "      <td>134.981685</td>\n",
       "    </tr>\n",
       "    <tr>\n",
       "      <th>3</th>\n",
       "      <td>C1000.9</td>\n",
       "      <td>55</td>\n",
       "      <td>57.221195</td>\n",
       "    </tr>\n",
       "    <tr>\n",
       "      <th>4</th>\n",
       "      <td>C2000.9</td>\n",
       "      <td>58</td>\n",
       "      <td>1111.331763</td>\n",
       "    </tr>\n",
       "    <tr>\n",
       "      <th>5</th>\n",
       "      <td>C2000.5</td>\n",
       "      <td>12</td>\n",
       "      <td>144.178597</td>\n",
       "    </tr>\n",
       "    <tr>\n",
       "      <th>6</th>\n",
       "      <td>C4000.5</td>\n",
       "      <td>11</td>\n",
       "      <td>1301.870866</td>\n",
       "    </tr>\n",
       "    <tr>\n",
       "      <th>7</th>\n",
       "      <td>MANN_a27</td>\n",
       "      <td>117</td>\n",
       "      <td>87.610566</td>\n",
       "    </tr>\n",
       "    <tr>\n",
       "      <th>8</th>\n",
       "      <td>MANN_a45</td>\n",
       "      <td>331</td>\n",
       "      <td>510.951844</td>\n",
       "    </tr>\n",
       "    <tr>\n",
       "      <th>9</th>\n",
       "      <td>brock200_2</td>\n",
       "      <td>9</td>\n",
       "      <td>26.227097</td>\n",
       "    </tr>\n",
       "    <tr>\n",
       "      <th>10</th>\n",
       "      <td>brock200_4</td>\n",
       "      <td>16</td>\n",
       "      <td>8.766173</td>\n",
       "    </tr>\n",
       "    <tr>\n",
       "      <th>11</th>\n",
       "      <td>brock400_2</td>\n",
       "      <td>22</td>\n",
       "      <td>27.252982</td>\n",
       "    </tr>\n",
       "    <tr>\n",
       "      <th>12</th>\n",
       "      <td>brock400_4</td>\n",
       "      <td>22</td>\n",
       "      <td>25.794852</td>\n",
       "    </tr>\n",
       "    <tr>\n",
       "      <th>13</th>\n",
       "      <td>brock800_2</td>\n",
       "      <td>18</td>\n",
       "      <td>76.758925</td>\n",
       "    </tr>\n",
       "    <tr>\n",
       "      <th>14</th>\n",
       "      <td>brock800_4</td>\n",
       "      <td>17</td>\n",
       "      <td>214.888173</td>\n",
       "    </tr>\n",
       "    <tr>\n",
       "      <th>15</th>\n",
       "      <td>gen200_p0.9_44</td>\n",
       "      <td>40</td>\n",
       "      <td>15.259080</td>\n",
       "    </tr>\n",
       "    <tr>\n",
       "      <th>16</th>\n",
       "      <td>gen200_p0.9_55</td>\n",
       "      <td>39</td>\n",
       "      <td>16.323397</td>\n",
       "    </tr>\n",
       "    <tr>\n",
       "      <th>17</th>\n",
       "      <td>gen400_p0.9_55</td>\n",
       "      <td>48</td>\n",
       "      <td>53.564466</td>\n",
       "    </tr>\n",
       "    <tr>\n",
       "      <th>18</th>\n",
       "      <td>gen400_p0.9_65</td>\n",
       "      <td>47</td>\n",
       "      <td>58.067757</td>\n",
       "    </tr>\n",
       "    <tr>\n",
       "      <th>19</th>\n",
       "      <td>gen400_p0.9_75</td>\n",
       "      <td>50</td>\n",
       "      <td>56.032398</td>\n",
       "    </tr>\n",
       "    <tr>\n",
       "      <th>20</th>\n",
       "      <td>hamming10-4</td>\n",
       "      <td>33</td>\n",
       "      <td>429.819067</td>\n",
       "    </tr>\n",
       "    <tr>\n",
       "      <th>21</th>\n",
       "      <td>hamming8-4</td>\n",
       "      <td>16</td>\n",
       "      <td>7.540444</td>\n",
       "    </tr>\n",
       "    <tr>\n",
       "      <th>22</th>\n",
       "      <td>keller4</td>\n",
       "      <td>11</td>\n",
       "      <td>23.266370</td>\n",
       "    </tr>\n",
       "    <tr>\n",
       "      <th>23</th>\n",
       "      <td>keller5</td>\n",
       "      <td>20</td>\n",
       "      <td>359.769950</td>\n",
       "    </tr>\n",
       "    <tr>\n",
       "      <th>24</th>\n",
       "      <td>p_hat300-1</td>\n",
       "      <td>7</td>\n",
       "      <td>9.359051</td>\n",
       "    </tr>\n",
       "    <tr>\n",
       "      <th>25</th>\n",
       "      <td>p_hat300-2</td>\n",
       "      <td>25</td>\n",
       "      <td>31.409853</td>\n",
       "    </tr>\n",
       "    <tr>\n",
       "      <th>26</th>\n",
       "      <td>p_hat300-3</td>\n",
       "      <td>33</td>\n",
       "      <td>59.646242</td>\n",
       "    </tr>\n",
       "    <tr>\n",
       "      <th>27</th>\n",
       "      <td>p_hat700-1</td>\n",
       "      <td>9</td>\n",
       "      <td>27.260685</td>\n",
       "    </tr>\n",
       "    <tr>\n",
       "      <th>28</th>\n",
       "      <td>p_hat700-2</td>\n",
       "      <td>42</td>\n",
       "      <td>28.764077</td>\n",
       "    </tr>\n",
       "    <tr>\n",
       "      <th>29</th>\n",
       "      <td>p_hat700-3</td>\n",
       "      <td>61</td>\n",
       "      <td>264.210161</td>\n",
       "    </tr>\n",
       "    <tr>\n",
       "      <th>30</th>\n",
       "      <td>p_hat1500-1</td>\n",
       "      <td>10</td>\n",
       "      <td>54.333562</td>\n",
       "    </tr>\n",
       "    <tr>\n",
       "      <th>31</th>\n",
       "      <td>p_hat1500-2</td>\n",
       "      <td>62</td>\n",
       "      <td>327.134282</td>\n",
       "    </tr>\n",
       "    <tr>\n",
       "      <th>32</th>\n",
       "      <td>p_hat1500-3</td>\n",
       "      <td>79</td>\n",
       "      <td>1063.757272</td>\n",
       "    </tr>\n",
       "  </tbody>\n",
       "</table>\n",
       "</div>"
      ],
      "text/plain": [
       "         Benchmark  NN 𝝎(G)  NN Time [s]\n",
       "0           C125.9       34     7.605123\n",
       "1           C250.9       43    35.509870\n",
       "2           C500.9       49   134.981685\n",
       "3          C1000.9       55    57.221195\n",
       "4          C2000.9       58  1111.331763\n",
       "5          C2000.5       12   144.178597\n",
       "6          C4000.5       11  1301.870866\n",
       "7         MANN_a27      117    87.610566\n",
       "8         MANN_a45      331   510.951844\n",
       "9       brock200_2        9    26.227097\n",
       "10      brock200_4       16     8.766173\n",
       "11      brock400_2       22    27.252982\n",
       "12      brock400_4       22    25.794852\n",
       "13      brock800_2       18    76.758925\n",
       "14      brock800_4       17   214.888173\n",
       "15  gen200_p0.9_44       40    15.259080\n",
       "16  gen200_p0.9_55       39    16.323397\n",
       "17  gen400_p0.9_55       48    53.564466\n",
       "18  gen400_p0.9_65       47    58.067757\n",
       "19  gen400_p0.9_75       50    56.032398\n",
       "20     hamming10-4       33   429.819067\n",
       "21      hamming8-4       16     7.540444\n",
       "22         keller4       11    23.266370\n",
       "23         keller5       20   359.769950\n",
       "24      p_hat300-1        7     9.359051\n",
       "25      p_hat300-2       25    31.409853\n",
       "26      p_hat300-3       33    59.646242\n",
       "27      p_hat700-1        9    27.260685\n",
       "28      p_hat700-2       42    28.764077\n",
       "29      p_hat700-3       61   264.210161\n",
       "30     p_hat1500-1       10    54.333562\n",
       "31     p_hat1500-2       62   327.134282\n",
       "32     p_hat1500-3       79  1063.757272"
      ]
     },
     "execution_count": 47,
     "metadata": {},
     "output_type": "execute_result"
    }
   ],
   "source": [
    "df_dim"
   ]
  },
  {
   "cell_type": "code",
   "execution_count": null,
   "metadata": {},
   "outputs": [],
   "source": []
  }
 ],
 "metadata": {
  "kernelspec": {
   "display_name": "graph",
   "language": "python",
   "name": "python3"
  },
  "language_info": {
   "codemirror_mode": {
    "name": "ipython",
    "version": 3
   },
   "file_extension": ".py",
   "mimetype": "text/x-python",
   "name": "python",
   "nbconvert_exporter": "python",
   "pygments_lexer": "ipython3",
   "version": "3.10.1"
  },
  "orig_nbformat": 4,
  "vscode": {
   "interpreter": {
    "hash": "e56b1cf1e96397dc6b2c6e43f45760f114bd6863755c5d222ec86e776651888f"
   }
  }
 },
 "nbformat": 4,
 "nbformat_minor": 2
}
