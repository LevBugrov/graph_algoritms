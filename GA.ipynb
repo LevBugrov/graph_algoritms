{
 "cells": [
  {
   "cell_type": "code",
   "execution_count": 2,
   "metadata": {},
   "outputs": [],
   "source": [
    "import matplotlib.pyplot as plt\n",
    "import networkx as nx\n",
    "import random as rm\n",
    "import numpy as np\n",
    "import pandas as pd\n",
    "from numpy.random import default_rng\n",
    "import time\n",
    "from numba import njit\n",
    "\n",
    "rng = default_rng()"
   ]
  },
  {
   "cell_type": "code",
   "execution_count": 3,
   "metadata": {},
   "outputs": [],
   "source": [
    "def str2int_arr(str):\n",
    "    return [float(i) for i in str]\n",
    "\n",
    "def graph_from_file(file):\n",
    "    w = []\n",
    "    with open(file, \"r\") as f:\n",
    "        for line in f:\n",
    "            arr = line.split()\n",
    "            map(int, arr)\n",
    "            w.append(str2int_arr(arr))\n",
    "    return nx.from_numpy_matrix(np.array(w))\n",
    "\n",
    "def graph_from_dimacs(file):\n",
    "    G = nx.Graph()\n",
    "    with open(file, \"r\") as f:\n",
    "        for line in f:\n",
    "            buff = line.split()\n",
    "            if buff[0]==\"p\":\n",
    "                G.add_nodes_from([i for i in range(1, int(buff[2])+1 )])\n",
    "                break\n",
    "        for line in f:\n",
    "            edge = line.split()\n",
    "            G.add_edge(int(edge[1]), int(edge[2]))\n",
    "    return G"
   ]
  },
  {
   "cell_type": "code",
   "execution_count": 4,
   "metadata": {},
   "outputs": [],
   "source": [
    "def digits_from_01(arr):\n",
    "    digits = []\n",
    "    for i in range(len(arr)):\n",
    "        if int(arr[i]) == 1:\n",
    "            digits.append(i) \n",
    "    return digits\n",
    "    \n",
    "\n",
    "def initial_population(n, size):\n",
    "    population = []\n",
    "    for _ in range(size):\n",
    "        individual = \"\"\n",
    "        for _ in range(n):\n",
    "            individual += rm.choice(\"0\")\n",
    "        population.append(individual)\n",
    "    return population\n",
    "    \n",
    "def adaptability(G, individual, B=2):\n",
    "    subgraph_v = np.array([], dtype=\"int\")\n",
    "    \n",
    "    for i in range(individual.size):\n",
    "        if individual[i]==1:\n",
    "            subgraph_v = np.append(subgraph_v, [i])\n",
    "            \n",
    "    subgraph = nx.subgraph(G, list(subgraph_v))\n",
    "    n = subgraph_v.size\n",
    "    return max((-n*(n-1)//2 + subgraph.number_of_edges()) * B + n, 1) #max(n-(n*(n-1)//2 + subgraph.number_of_edges())*fine, 1)\n",
    "\n",
    "def roulette(population, k):\n",
    "    \n",
    "    population_weights = [adaptability(G, i) for i in population]\n",
    "    #if sum(population_weights)==0 :\n",
    "    #    population_weights = [1 for _ in range(len(population_weights))]\n",
    "    descendants = rm.choices(population, population_weights, k=k)\n",
    "    \n",
    "    return descendants\n",
    "\n",
    "def crossover(parents):\n",
    "    point = rm.randint(0, parents[0].size)\n",
    "    child = np.concatenate((parents[0][:point], parents[1][point:]))\n",
    "    return child \n",
    "\n",
    "def mutation(individual, probability = 0.5):\n",
    "    if rm.random()>probability:\n",
    "        return individual\n",
    "    \n",
    "    point = rm.randint(0, individual.size-1)\n",
    "    \n",
    "    individual[point] ^= 1\n",
    "    \n",
    "    return individual\n",
    "\n",
    "def multy_mutation(individual):\n",
    "    num_mutation=5\n",
    "    n = individual.size\n",
    "    for i in range(num_mutation):\n",
    "        individual[np.random.randint(0, n)] ^= 1\n",
    "    \n",
    "    return individual\n",
    "\n",
    "def print_p(population):\n",
    "    for i in population:\n",
    "        for j in i:\n",
    "            print(j, end='')\n",
    "        print()\n",
    "\n",
    "\n",
    "def GA( p_size = 40,\n",
    "        np_size = 40,\n",
    "        max_iteration = 1500,\n",
    "        elite_size = 5,):\n",
    "    \n",
    "    population = np.zeros((p_size, G.number_of_nodes()), dtype=\"byte\")  # np.array(initial_population(n, p_size), dtype=\"str\")\n",
    "    population = np.array(list(map(multy_mutation, population)), dtype=\"byte\")\n",
    "    p_adaptability = np.array([adaptability(G, ind) for ind in population], dtype=\"int\")\n",
    "\n",
    "    new_population = np.zeros((np_size, G.number_of_nodes()), dtype=\"byte\")\n",
    "    new_p_adaptability = np.zeros(np_size, dtype=\"int\")\n",
    "\n",
    "    for _ in range(max_iteration):\n",
    "        # выбор родителей + скрещивание + мутация\n",
    "        for i in range(np_size):\n",
    "            \n",
    "            new_population[i] = mutation(crossover( rm.choices(population, p_adaptability, k=2) ), probability=0.6 )#  ???\n",
    "            new_p_adaptability[i] = adaptability(G, new_population[i], B=1)\n",
    "\n",
    "        # объединение популяций\n",
    "        new_population = np.concatenate((population, new_population[:np_size]))\n",
    "        new_p_adaptability = np.concatenate((p_adaptability, new_p_adaptability[:np_size]))\n",
    "        \n",
    "        # выбор новой популяции\n",
    "        new_num = rm.choices(np.arange(p_size + np_size), new_p_adaptability, k=p_size)  # the numbers of individuals for the new population\n",
    "        # выбор самых приспособленных\n",
    "        elite_index = np.argpartition(-new_p_adaptability, elite_size)\n",
    "        \n",
    "        for i in range(elite_size):\n",
    "            population[i] = new_population[elite_index[i]]\n",
    "            p_adaptability[i] = new_p_adaptability[elite_index[i]]\n",
    "        for i in range(elite_size, p_size):\n",
    "            population[i] = new_population[new_num[i]]\n",
    "            p_adaptability[i] = new_p_adaptability[new_num[i]]\n",
    "        \n",
    "    return p_adaptability, population"
   ]
  },
  {
   "cell_type": "markdown",
   "metadata": {},
   "source": [
    "## Загрузка графа"
   ]
  },
  {
   "cell_type": "code",
   "execution_count": 5,
   "metadata": {},
   "outputs": [],
   "source": [
    "G = graph_from_file(\"data/graph_examples/34_14\")\n",
    "#----------Hyperparameters----------\n",
    "p_size = 20\n",
    "np_size = 20\n",
    "iterations = 1000\n",
    "elite_size = 3\n",
    "estimated_click_size = 14\n",
    "#-----------#-----------#----------- \n",
    "\n",
    "#p_adaptability, population = GA(p_size, np_size, iterations, elite_size, estimated_click_size)\n",
    "        \n",
    "#print(p_adaptability)\n",
    "#print_p(population)"
   ]
  },
  {
   "cell_type": "markdown",
   "metadata": {},
   "source": [
    "## Таблица с результатами тестов"
   ]
  },
  {
   "cell_type": "code",
   "execution_count": 6,
   "metadata": {},
   "outputs": [],
   "source": [
    "df = pd.DataFrame(columns=['population size', 'new population size', 'number of iterations', 'number of runs', 'best score', 'time'])"
   ]
  },
  {
   "cell_type": "code",
   "execution_count": 7,
   "metadata": {},
   "outputs": [],
   "source": [
    "G = graph_from_dimacs(\"data/DIMACS_subset_ascii/C500.9.clq\")\n",
    "#----------Hyperparameters----------\n",
    "p_size = 40\n",
    "np_size = 40\n",
    "iterations = 15 #00\n",
    "elite_size = 5\n",
    "estimated_click_size = 58\n",
    "number_of_runs = 1 #5\n",
    "#-----------#-----------#----------- "
   ]
  },
  {
   "cell_type": "code",
   "execution_count": 8,
   "metadata": {},
   "outputs": [],
   "source": [
    "def mult_GA(num_parameter, arr,  p_size, np_size, iterations, number_of_runs, df):\n",
    "    print(\"aaaa\")\n",
    "    for i in arr:\n",
    "        \n",
    "        start_time = time.time()\n",
    "        input = [p_size, np_size, iterations, number_of_runs]\n",
    "        input[num_parameter] = i \n",
    "        result = 0\n",
    "        \n",
    "        for _ in range(input[3]):\n",
    "            p_adaptability, population = GA(*input[:3], elite_size)\n",
    "            result = max(result, p_adaptability[0])        \n",
    "\n",
    "        df.loc[len(df)] = [*input, result, (time.time() - start_time)]"
   ]
  },
  {
   "cell_type": "code",
   "execution_count": 15,
   "metadata": {},
   "outputs": [],
   "source": [
    "number_of_runs = 3\n",
    "\n",
    "pop_sizes =  [10, 20]#, 50, 75, 100, 150]\n",
    "mult_GA(0, pop_sizes, p_size, np_size, iterations, number_of_runs, df)"
   ]
  },
  {
   "cell_type": "code",
   "execution_count": null,
   "metadata": {},
   "outputs": [],
   "source": [
    "np_sizes =  [10, 20]#, 50, 75, 100, 150]\n",
    "mult_GA(1, np_sizes, p_size, np_size, iterations, number_of_runs, df)"
   ]
  },
  {
   "cell_type": "code",
   "execution_count": null,
   "metadata": {},
   "outputs": [],
   "source": [
    "iterations_arr = [100]#, 250, 500, 1000, 2500, 5000, 10000]\n",
    "mult_GA(2, iterations_arr, p_size, np_size, iterations, number_of_runs, df)"
   ]
  },
  {
   "cell_type": "code",
   "execution_count": 58,
   "metadata": {},
   "outputs": [],
   "source": [
    "numbers_of_runs_arr = [1, 2]#, 5, 10, 15, 25, 50]\n",
    "mult_GA(3, numbers_of_runs_arr, p_size, np_size, iterations, number_of_runs, df)"
   ]
  },
  {
   "cell_type": "code",
   "execution_count": 10,
   "metadata": {},
   "outputs": [
    {
     "data": {
      "text/html": [
       "<div>\n",
       "<style scoped>\n",
       "    .dataframe tbody tr th:only-of-type {\n",
       "        vertical-align: middle;\n",
       "    }\n",
       "\n",
       "    .dataframe tbody tr th {\n",
       "        vertical-align: top;\n",
       "    }\n",
       "\n",
       "    .dataframe thead th {\n",
       "        text-align: right;\n",
       "    }\n",
       "</style>\n",
       "<table border=\"1\" class=\"dataframe\">\n",
       "  <thead>\n",
       "    <tr style=\"text-align: right;\">\n",
       "      <th></th>\n",
       "      <th>population size</th>\n",
       "      <th>new population size</th>\n",
       "      <th>number of iterations</th>\n",
       "      <th>number of runs</th>\n",
       "      <th>best score</th>\n",
       "      <th>time</th>\n",
       "    </tr>\n",
       "  </thead>\n",
       "  <tbody>\n",
       "  </tbody>\n",
       "</table>\n",
       "</div>"
      ],
      "text/plain": [
       "Empty DataFrame\n",
       "Columns: [population size, new population size, number of iterations, number of runs, best score, time]\n",
       "Index: []"
      ]
     },
     "execution_count": 10,
     "metadata": {},
     "output_type": "execute_result"
    }
   ],
   "source": [
    "df"
   ]
  },
  {
   "cell_type": "code",
   "execution_count": 27,
   "metadata": {},
   "outputs": [],
   "source": [
    "from multiprocessing import Process\n",
    "import os\n",
    "\n",
    "if __name__ == '__main__':\n",
    "    pop_sizes =  [10, 20]\n",
    "    p = Process(target=mult_GA, args=(0, pop_sizes, p_size, np_size, iterations, number_of_runs, df,))\n",
    "    #mult_GA(0, pop_sizes, p_size, np_size, iterations, number_of_runs, df)\n",
    "    p.start()\n",
    "    p.join()"
   ]
  },
  {
   "cell_type": "code",
   "execution_count": null,
   "metadata": {},
   "outputs": [
    {
     "data": {
      "text/html": [
       "<div>\n",
       "<style scoped>\n",
       "    .dataframe tbody tr th:only-of-type {\n",
       "        vertical-align: middle;\n",
       "    }\n",
       "\n",
       "    .dataframe tbody tr th {\n",
       "        vertical-align: top;\n",
       "    }\n",
       "\n",
       "    .dataframe thead th {\n",
       "        text-align: right;\n",
       "    }\n",
       "</style>\n",
       "<table border=\"1\" class=\"dataframe\">\n",
       "  <thead>\n",
       "    <tr style=\"text-align: right;\">\n",
       "      <th></th>\n",
       "      <th>population size</th>\n",
       "      <th>new population size</th>\n",
       "      <th>number of iterations</th>\n",
       "      <th>number of runs</th>\n",
       "      <th>best score</th>\n",
       "      <th>time</th>\n",
       "    </tr>\n",
       "  </thead>\n",
       "  <tbody>\n",
       "  </tbody>\n",
       "</table>\n",
       "</div>"
      ],
      "text/plain": [
       "Empty DataFrame\n",
       "Columns: [population size, new population size, number of iterations, number of runs, best score, time]\n",
       "Index: []"
      ]
     },
     "execution_count": 16,
     "metadata": {},
     "output_type": "execute_result"
    }
   ],
   "source": [
    "df"
   ]
  },
  {
   "cell_type": "code",
   "execution_count": 19,
   "metadata": {},
   "outputs": [],
   "source": [
    "from multiprocessing import Process\n",
    "import os\n",
    "\n",
    "def info(title):\n",
    "    print(title)\n",
    "    print('module name:', __name__)\n",
    "    print('parent process:', os.getppid())\n",
    "    print('process id:', os.getpid())\n",
    "\n",
    "def f(name):\n",
    "    info('function f')\n",
    "    print('hello', name)\n",
    "\n",
    "if __name__ == '__main__':\n",
    "    #info('main line')\n",
    "    p = Process(target=f, args=('bob',))\n",
    "    p.start()\n",
    "    p.join()"
   ]
  },
  {
   "cell_type": "markdown",
   "metadata": {},
   "source": [
    "## Генерация популяции для сети Хопфилда"
   ]
  },
  {
   "cell_type": "code",
   "execution_count": 60,
   "metadata": {},
   "outputs": [],
   "source": [
    "p_adaptability, population = GA(p_size, np_size, iterations, elite_size)"
   ]
  },
  {
   "cell_type": "code",
   "execution_count": 62,
   "metadata": {},
   "outputs": [
    {
     "data": {
      "text/plain": [
       "array([[0, 1, 0, 1, 0, 1, 0, 0, 0, 1, 1, 0, 1, 0, 1, 0, 1, 0, 0, 1, 0, 0,\n",
       "        1, 0, 0, 0, 1, 1, 0, 1, 0, 0, 0, 1],\n",
       "       [0, 0, 0, 1, 1, 1, 0, 0, 0, 1, 1, 0, 1, 0, 1, 0, 1, 0, 0, 1, 0, 1,\n",
       "        1, 0, 0, 0, 1, 1, 0, 1, 1, 0, 0, 1],\n",
       "       [0, 1, 0, 1, 0, 1, 0, 0, 0, 1, 1, 0, 1, 0, 1, 0, 1, 0, 0, 1, 0, 0,\n",
       "        1, 0, 0, 0, 1, 1, 0, 1, 1, 0, 0, 1],\n",
       "       [0, 0, 0, 1, 0, 1, 0, 0, 0, 1, 1, 0, 1, 0, 1, 0, 1, 0, 0, 0, 0, 1,\n",
       "        1, 0, 0, 0, 1, 1, 0, 1, 1, 0, 0, 1],\n",
       "       [0, 1, 0, 1, 0, 1, 0, 0, 0, 1, 1, 0, 1, 0, 0, 0, 1, 0, 0, 0, 0, 1,\n",
       "        1, 0, 0, 0, 1, 1, 0, 1, 1, 0, 0, 1]], dtype=int8)"
      ]
     },
     "execution_count": 62,
     "metadata": {},
     "output_type": "execute_result"
    }
   ],
   "source": [
    "population[:5]"
   ]
  },
  {
   "cell_type": "code",
   "execution_count": 70,
   "metadata": {},
   "outputs": [],
   "source": [
    "import pickle\n",
    "with open('data/graphFromGaToHop/g'+str(G.number_of_nodes())+\"_\"+str(p_adaptability[0])+'.pkl', 'wb') as out:\n",
    "    pickle.dump(population, out, 2)"
   ]
  }
 ],
 "metadata": {
  "kernelspec": {
   "display_name": "graph",
   "language": "python",
   "name": "python3"
  },
  "language_info": {
   "codemirror_mode": {
    "name": "ipython",
    "version": 3
   },
   "file_extension": ".py",
   "mimetype": "text/x-python",
   "name": "python",
   "nbconvert_exporter": "python",
   "pygments_lexer": "ipython3",
   "version": "3.10.1"
  },
  "orig_nbformat": 4,
  "vscode": {
   "interpreter": {
    "hash": "e56b1cf1e96397dc6b2c6e43f45760f114bd6863755c5d222ec86e776651888f"
   }
  }
 },
 "nbformat": 4,
 "nbformat_minor": 2
}
